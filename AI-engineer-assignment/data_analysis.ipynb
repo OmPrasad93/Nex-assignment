{
 "cells": [
  {
   "cell_type": "markdown",
   "id": "ef4afe4a-bf81-4bb9-aa5e-267170877558",
   "metadata": {},
   "source": [
    "### news dataset analysis"
   ]
  },
  {
   "cell_type": "code",
   "execution_count": 1,
   "id": "268c1781-99bc-47dc-ab0c-f28acc603b19",
   "metadata": {},
   "outputs": [],
   "source": [
    "import pandas as pd\n",
    "import numpy as np"
   ]
  },
  {
   "cell_type": "code",
   "execution_count": 2,
   "id": "6f9932a3-c25a-4aba-9849-bd51696841d5",
   "metadata": {},
   "outputs": [],
   "source": [
    "news_df = pd.read_json(\"data/news.jsonl\", lines=True)"
   ]
  },
  {
   "cell_type": "markdown",
   "id": "3c835722-3252-42b1-9da8-595ca4b4efe7",
   "metadata": {},
   "source": [
    "#### Checking value counts and values for normalisation. \n",
    "#### Classifying on too many categories is not a wise idea as the model might fail to learn certain categories due to their frequency.\n",
    "#### Best to identify categories and merge so that total frequency for a single \"topic\" can be higher.\n",
    "#### Here topic is basically representation of multiple categories with one merged category"
   ]
  },
  {
   "cell_type": "code",
   "execution_count": 3,
   "id": "d1c17189-6b0a-498b-b56b-d68455df8a0c",
   "metadata": {},
   "outputs": [
    {
     "data": {
      "text/plain": [
       "POLITICS          35602\n",
       "WELLNESS          17945\n",
       "ENTERTAINMENT     17362\n",
       "TRAVEL             9900\n",
       "STYLE & BEAUTY     9814\n",
       "PARENTING          8791\n",
       "HEALTHY LIVING     6694\n",
       "QUEER VOICES       6347\n",
       "FOOD & DRINK       6340\n",
       "BUSINESS           5992\n",
       "COMEDY             5400\n",
       "SPORTS             5077\n",
       "BLACK VOICES       4583\n",
       "HOME & LIVING      4320\n",
       "PARENTS            3955\n",
       "THE WORLDPOST      3664\n",
       "WEDDINGS           3653\n",
       "WOMEN              3572\n",
       "CRIME              3562\n",
       "IMPACT             3484\n",
       "DIVORCE            3426\n",
       "WORLD NEWS         3299\n",
       "MEDIA              2944\n",
       "WEIRD NEWS         2777\n",
       "GREEN              2622\n",
       "WORLDPOST          2579\n",
       "RELIGION           2577\n",
       "STYLE              2254\n",
       "SCIENCE            2206\n",
       "TECH               2104\n",
       "TASTE              2096\n",
       "MONEY              1756\n",
       "ARTS               1509\n",
       "ENVIRONMENT        1444\n",
       "FIFTY              1401\n",
       "GOOD NEWS          1398\n",
       "U.S. NEWS          1377\n",
       "ARTS & CULTURE     1339\n",
       "COLLEGE            1144\n",
       "LATINO VOICES      1130\n",
       "CULTURE & ARTS     1074\n",
       "EDUCATION          1014\n",
       "Name: category, dtype: int64"
      ]
     },
     "execution_count": 3,
     "metadata": {},
     "output_type": "execute_result"
    }
   ],
   "source": [
    "news_df.category.value_counts()"
   ]
  },
  {
   "cell_type": "code",
   "execution_count": 4,
   "id": "8ecfd68a-2639-4e74-991d-41e3bf350540",
   "metadata": {},
   "outputs": [],
   "source": [
    "# Apply the category normalization as discussed earlier\n",
    "\n",
    "# 1. Combine \"GREEN\" and \"ENVIRONMENT\" into \"ENVIRONMENT\"\n",
    "news_df['category'] = news_df['category'].replace(['GREEN', 'ENVIRONMENT'], 'ENVIRONMENT')\n",
    "\n",
    "# 2. Combine \"QUEER VOICES\", \"BLACK VOICES\", and \"LATINO VOICES\" into \"DIVERSE VOICES\"\n",
    "news_df['category'] = news_df['category'].replace(['QUEER VOICES', 'BLACK VOICES', 'LATINO VOICES'], 'DIVERSE VOICES')\n",
    "\n",
    "# 3. Combine \"WORLDPOST\" and \"THE WORLDPOST\" into \"WORLD NEWS\"\n",
    "news_df['category'] = news_df['category'].replace(['WORLDPOST', 'THE WORLDPOST'], 'WORLD NEWS')\n",
    "\n",
    "# 4. Combine \"PARENTING\" and \"PARENTS\" into \"PARENTING\"\n",
    "news_df['category'] = news_df['category'].replace(['PARENTING', 'PARENTS'], 'PARENTING')\n",
    "\n",
    "# 5. Combine \"ARTS\", \"ARTS & CULTURE\", and \"CULTURE & ARTS\" into \"ARTS & CULTURE\"\n",
    "news_df['category'] = news_df['category'].replace(['ARTS', 'ARTS & CULTURE', 'CULTURE & ARTS'], 'ARTS & CULTURE')\n",
    "\n",
    "# 6. Combine \"TECH\" and \"SCIENCE\" into \"TECH & SCIENCE\"\n",
    "news_df['category'] = news_df['category'].replace(['TECH', 'SCIENCE'], 'TECH & SCIENCE')\n",
    "\n",
    "# 7. Combine \"TASTE\" and \"FOOD & DRINK\" into \"FOOD & DRINK\"\n",
    "news_df['category'] = news_df['category'].replace(['TASTE', 'FOOD & DRINK'], 'FOOD & DRINK')\n",
    "\n",
    "# 8. Combine \"MONEY\", \"BUSINESS\" into \"BUSINESS & FINANCE\"\n",
    "news_df['category'] = news_df['category'].replace(['MONEY', 'BUSINESS'], 'BUSINESS & FINANCE')\n",
    "\n",
    "# 9. Combine \"COLLEGE\", \"EDUCATION\" into \"EDUCATION\"\n",
    "news_df['category'] = news_df['category'].replace(['COLLEGE', 'EDUCATION'], 'EDUCATION')\n",
    "\n",
    "# 10. Combine \"STYLE\", \"STYLE AND BEAUTY\" into \"STYLE & BEAUTY\"\n",
    "news_df['category'] = news_df['category'].replace(['STYLE', 'STYLE & BEAUTY', 'STYLE AND BEAUTY'], 'STYLE & BEAUTY')\n",
    "\n",
    "# 11. Combine \"GREEN\" and \"ENVIRONMENT\" into \"ENVIRONMENT\"\n",
    "news_df['category'] = news_df['category'].replace(['WELNNESS', 'HEALTHY LIVING'], 'ENVIRONMENT')\n"
   ]
  },
  {
   "cell_type": "code",
   "execution_count": 5,
   "id": "0f2061e4-32c3-41b3-a234-9cb63068ce0b",
   "metadata": {},
   "outputs": [
    {
     "data": {
      "text/plain": [
       "POLITICS              35602\n",
       "WELLNESS              17945\n",
       "ENTERTAINMENT         17362\n",
       "PARENTING             12746\n",
       "STYLE & BEAUTY        12068\n",
       "DIVERSE VOICES        12060\n",
       "TRAVEL                 9900\n",
       "WORLD NEWS             9542\n",
       "FOOD & DRINK           8436\n",
       "BUSINESS & FINANCE     7748\n",
       "HEALTHY LIVING         6694\n",
       "COMEDY                 5400\n",
       "SPORTS                 5077\n",
       "HOME & LIVING          4320\n",
       "TECH & SCIENCE         4310\n",
       "ENVIRONMENT            4066\n",
       "ARTS & CULTURE         3922\n",
       "WEDDINGS               3653\n",
       "WOMEN                  3572\n",
       "CRIME                  3562\n",
       "IMPACT                 3484\n",
       "DIVORCE                3426\n",
       "MEDIA                  2944\n",
       "WEIRD NEWS             2777\n",
       "RELIGION               2577\n",
       "EDUCATION              2158\n",
       "FIFTY                  1401\n",
       "GOOD NEWS              1398\n",
       "U.S. NEWS              1377\n",
       "Name: category, dtype: int64"
      ]
     },
     "execution_count": 5,
     "metadata": {},
     "output_type": "execute_result"
    }
   ],
   "source": [
    "### Showing new categories\n",
    "news_df.category.value_counts()"
   ]
  },
  {
   "cell_type": "markdown",
   "id": "50fac124-3ba8-4c88-8861-89f5ddee6910",
   "metadata": {},
   "source": [
    "#### Analyzing headlines and short description as only one can be used:"
   ]
  },
  {
   "cell_type": "code",
   "execution_count": null,
   "id": "0f3dbb94-2ec3-4822-a0d2-c8656f1b584e",
   "metadata": {},
   "outputs": [],
   "source": [
    "# Check for null in headlines and short descriptions\n",
    "# Count of missing values\n",
    "missing_headlines = news_df[\"headline\"].isnull().sum()\n",
    "missing_descriptions = news_df[\"short_description\"].isnull().sum()\n",
    "missing_headlines, missing_descriptions"
   ]
  },
  {
   "cell_type": "code",
   "execution_count": null,
   "id": "8fe2f7fa-81af-4677-9675-d3bd0a2e831f",
   "metadata": {},
   "outputs": [],
   "source": [
    "# As no NaNs or nulls are found checking for empty string\n",
    "# Count of empty strings\n",
    "empty_headlines = news_df[news_df[\"headline\"] == \"\"].shape[0]\n",
    "empty_descriptions = news_df[news_df[\"short_description\"] == \"\"].shape[0]\n",
    "\n",
    "# Distribution of string lengths for non-empty values\n",
    "headline_lengths_non_empty = news_df[news_df[\"headline\"] != \"\"][\"headline\"].apply(len)\n",
    "description_lengths_non_empty = news_df[news_df[\"short_description\"] != \"\"][\"short_description\"].apply(len)\n",
    "\n",
    "headline_stats_non_empty = headline_lengths_non_empty.describe()\n",
    "description_stats_non_empty = description_lengths_non_empty.describe()\n",
    "\n",
    "empty_headlines, empty_descriptions, headline_stats_non_empty, description_stats_non_empty"
   ]
  },
  {
   "cell_type": "code",
   "execution_count": null,
   "id": "bdeab34a-c911-4ff5-978a-064db2d47e80",
   "metadata": {},
   "outputs": [],
   "source": [
    "# Checking missing short descriptions by category\n",
    "# Filter rows with empty short_description\n",
    "empty_description_data = news_df[news_df[\"short_description\"] == \"\"]\n",
    "\n",
    "# Count of empty descriptions by category\n",
    "empty_description_by_category = empty_description_data[\"category\"].value_counts()\n",
    "\n",
    "empty_description_by_category\n"
   ]
  },
  {
   "cell_type": "markdown",
   "id": "3a109265-e70b-41e7-a512-7cbcd31818da",
   "metadata": {},
   "source": [
    "### Final Analysis:\n",
    "#### 1. Considering that we have missing values, and the problem looks even more exacerbated within larger categories, training on headlines would be a better method.\n",
    "#### 2. US and world news category are mixed categories which will have data representing other categories. Therefore can be considered to be removed from the set and they should be trained as a secondary class or a classification between themseleves."
   ]
  },
  {
   "cell_type": "markdown",
   "id": "46deeac3-a4f2-4499-bb01-fb76d5d86c2f",
   "metadata": {},
   "source": [
    "#### -------------------------------------------------------------------- \n",
    "\n",
    "## Query dataset analysis"
   ]
  },
  {
   "cell_type": "code",
   "execution_count": 6,
   "id": "abc8302d-56de-4d09-8373-5fc851bb411f",
   "metadata": {},
   "outputs": [
    {
     "data": {
      "text/html": [
       "<div>\n",
       "<style scoped>\n",
       "    .dataframe tbody tr th:only-of-type {\n",
       "        vertical-align: middle;\n",
       "    }\n",
       "\n",
       "    .dataframe tbody tr th {\n",
       "        vertical-align: top;\n",
       "    }\n",
       "\n",
       "    .dataframe thead th {\n",
       "        text-align: right;\n",
       "    }\n",
       "</style>\n",
       "<table border=\"1\" class=\"dataframe\">\n",
       "  <thead>\n",
       "    <tr style=\"text-align: right;\">\n",
       "      <th></th>\n",
       "      <th>question</th>\n",
       "      <th>query</th>\n",
       "      <th>col_names</th>\n",
       "      <th>col_names_original</th>\n",
       "      <th>has_join</th>\n",
       "      <th>has_groupby</th>\n",
       "      <th>has_orderby</th>\n",
       "    </tr>\n",
       "  </thead>\n",
       "  <tbody>\n",
       "    <tr>\n",
       "      <th>0</th>\n",
       "      <td>In which year were most departments established?</td>\n",
       "      <td>SELECT creation FROM department GROUP BY creat...</td>\n",
       "      <td>[*, department id, name, creation, ranking, bu...</td>\n",
       "      <td>[*, Department_ID, Name, Creation, Ranking, Bu...</td>\n",
       "      <td>False</td>\n",
       "      <td>True</td>\n",
       "      <td>True</td>\n",
       "    </tr>\n",
       "    <tr>\n",
       "      <th>1</th>\n",
       "      <td>List the official name and status of the city ...</td>\n",
       "      <td>SELECT Official_Name ,  Status FROM city ORDER...</td>\n",
       "      <td>[*, city id, official name, status, area km 2,...</td>\n",
       "      <td>[*, City_ID, Official_Name, Status, Area_km_2,...</td>\n",
       "      <td>False</td>\n",
       "      <td>False</td>\n",
       "      <td>True</td>\n",
       "    </tr>\n",
       "    <tr>\n",
       "      <th>2</th>\n",
       "      <td>What is the official name and status of the ci...</td>\n",
       "      <td>SELECT Official_Name ,  Status FROM city ORDER...</td>\n",
       "      <td>[*, city id, official name, status, area km 2,...</td>\n",
       "      <td>[*, City_ID, Official_Name, Status, Area_km_2,...</td>\n",
       "      <td>False</td>\n",
       "      <td>False</td>\n",
       "      <td>True</td>\n",
       "    </tr>\n",
       "    <tr>\n",
       "      <th>3</th>\n",
       "      <td>Show the status of the city that has hosted th...</td>\n",
       "      <td>SELECT T1.Status FROM city AS T1 JOIN farm_com...</td>\n",
       "      <td>[*, city id, official name, status, area km 2,...</td>\n",
       "      <td>[*, City_ID, Official_Name, Status, Area_km_2,...</td>\n",
       "      <td>True</td>\n",
       "      <td>True</td>\n",
       "      <td>True</td>\n",
       "    </tr>\n",
       "    <tr>\n",
       "      <th>4</th>\n",
       "      <td>What is the status of the city that has hosted...</td>\n",
       "      <td>SELECT T1.Status FROM city AS T1 JOIN farm_com...</td>\n",
       "      <td>[*, city id, official name, status, area km 2,...</td>\n",
       "      <td>[*, City_ID, Official_Name, Status, Area_km_2,...</td>\n",
       "      <td>True</td>\n",
       "      <td>True</td>\n",
       "      <td>True</td>\n",
       "    </tr>\n",
       "  </tbody>\n",
       "</table>\n",
       "</div>"
      ],
      "text/plain": [
       "                                            question  \\\n",
       "0   In which year were most departments established?   \n",
       "1  List the official name and status of the city ...   \n",
       "2  What is the official name and status of the ci...   \n",
       "3  Show the status of the city that has hosted th...   \n",
       "4  What is the status of the city that has hosted...   \n",
       "\n",
       "                                               query  \\\n",
       "0  SELECT creation FROM department GROUP BY creat...   \n",
       "1  SELECT Official_Name ,  Status FROM city ORDER...   \n",
       "2  SELECT Official_Name ,  Status FROM city ORDER...   \n",
       "3  SELECT T1.Status FROM city AS T1 JOIN farm_com...   \n",
       "4  SELECT T1.Status FROM city AS T1 JOIN farm_com...   \n",
       "\n",
       "                                           col_names  \\\n",
       "0  [*, department id, name, creation, ranking, bu...   \n",
       "1  [*, city id, official name, status, area km 2,...   \n",
       "2  [*, city id, official name, status, area km 2,...   \n",
       "3  [*, city id, official name, status, area km 2,...   \n",
       "4  [*, city id, official name, status, area km 2,...   \n",
       "\n",
       "                                  col_names_original  has_join  has_groupby  \\\n",
       "0  [*, Department_ID, Name, Creation, Ranking, Bu...     False         True   \n",
       "1  [*, City_ID, Official_Name, Status, Area_km_2,...     False        False   \n",
       "2  [*, City_ID, Official_Name, Status, Area_km_2,...     False        False   \n",
       "3  [*, City_ID, Official_Name, Status, Area_km_2,...      True         True   \n",
       "4  [*, City_ID, Official_Name, Status, Area_km_2,...      True         True   \n",
       "\n",
       "   has_orderby  \n",
       "0         True  \n",
       "1         True  \n",
       "2         True  \n",
       "3         True  \n",
       "4         True  "
      ]
     },
     "execution_count": 6,
     "metadata": {},
     "output_type": "execute_result"
    }
   ],
   "source": [
    "import pandas as pd\n",
    "fname =\"./data/queries.json\"\n",
    "queries_df = pd.read_json(fname)\n",
    "queries_df.head()"
   ]
  },
  {
   "cell_type": "markdown",
   "id": "289ee837-09b4-4a2c-b51c-0b07e6368597",
   "metadata": {},
   "source": [
    "### Analysing the below graph it seems the median value for group by questions is slightly higher than non group by questions. But there is similar variance across the groupby and non groupby questions. Length is not a great predictor."
   ]
  },
  {
   "cell_type": "code",
   "execution_count": 7,
   "id": "44737d15-22b2-42f8-b691-6b7b487c60c2",
   "metadata": {},
   "outputs": [
    {
     "data": {
      "image/png": "[encoded data removed]",
      "text/plain": [
       "<Figure size 864x432 with 1 Axes>"
      ]
     },
     "metadata": {
      "needs_background": "light"
     },
     "output_type": "display_data"
    }
   ],
   "source": [
    "import pandas as pd\n",
    "import matplotlib.pyplot as plt\n",
    "\n",
    "# Calculate the length of each question\n",
    "queries_df['question_length'] = queries_df['question'].apply(len)\n",
    "\n",
    "# Plotting the distribution of question lengths for questions with and without \"group by\"\n",
    "plt.figure(figsize=(12, 6))\n",
    "\n",
    "plt.hist(queries_df[queries_df['has_groupby'] == True]['question_length'], \n",
    "         bins=30, alpha=0.5, label='\"group by\" questions')\n",
    "plt.hist(queries_df[queries_df['has_groupby'] == False]['question_length'], \n",
    "         bins=30, alpha=0.5, label='Non-\"group by\" questions')\n",
    "\n",
    "plt.xlabel('Question Length')\n",
    "plt.ylabel('Number of Questions')\n",
    "plt.title('Distribution of Question Lengths')\n",
    "plt.legend()\n",
    "plt.grid(True, alpha=0.2)\n",
    "plt.show()\n"
   ]
  },
  {
   "cell_type": "markdown",
   "id": "9b586b0d-cd55-46a9-8aac-2ac3e6ac1395",
   "metadata": {},
   "source": [
    "### Analysing the common keywords, words like \"highest\", \"largest\" pop out which might imply sorting or filtering, but not necessarily grouping. "
   ]
  },
  {
   "cell_type": "code",
   "execution_count": 8,
   "id": "1bdef48e-c9e3-4cb6-a5a1-2abdc6223dd4",
   "metadata": {},
   "outputs": [
    {
     "data": {
      "text/plain": [
       "([('the', 1438),\n",
       "  ('of', 621),\n",
       "  ('most', 481),\n",
       "  ('?', 425),\n",
       "  ('.', 323),\n",
       "  ('what', 279),\n",
       "  ('is', 274),\n",
       "  ('name', 254),\n",
       "  ('number', 249),\n",
       "  ('has', 216),\n",
       "  ('and', 213),\n",
       "  ('which', 184),\n",
       "  ('that', 183),\n",
       "  ('with', 155),\n",
       "  ('id', 120),\n",
       "  ('find', 119),\n",
       "  ('in', 112),\n",
       "  ('are', 83),\n",
       "  ('who', 81),\n",
       "  (',', 79)],\n",
       " [('the', 1084),\n",
       "  ('of', 352),\n",
       "  ('?', 257),\n",
       "  ('what', 224),\n",
       "  ('.', 196),\n",
       "  ('name', 178),\n",
       "  ('is', 175),\n",
       "  ('with', 169),\n",
       "  ('and', 136),\n",
       "  ('most', 98),\n",
       "  ('highest', 81),\n",
       "  ('find', 76),\n",
       "  ('that', 76),\n",
       "  ('in', 76),\n",
       "  ('who', 63),\n",
       "  ('are', 62),\n",
       "  ('has', 61),\n",
       "  ('largest', 49),\n",
       "  ('which', 49),\n",
       "  ('id', 46)])"
      ]
     },
     "execution_count": 8,
     "metadata": {},
     "output_type": "execute_result"
    }
   ],
   "source": [
    "from collections import Counter\n",
    "import nltk\n",
    "\n",
    "# Tokenize the questions and get the frequency of terms\n",
    "def get_word_frequencies(df):\n",
    "    words = []\n",
    "    for question in df['question']:\n",
    "        tokens = nltk.word_tokenize(question.lower())\n",
    "        words.extend(tokens)\n",
    "    return Counter(words)\n",
    "\n",
    "# Get word frequencies for questions with and without \"group by\"\n",
    "groupby_word_freq = get_word_frequencies(queries_df[queries_df['has_groupby']])\n",
    "nogroupby_word_freq = get_word_frequencies(queries_df[~queries_df['has_groupby']])\n",
    "\n",
    "# Get the top 20 most common words for each category\n",
    "groupby_common = groupby_word_freq.most_common(20)\n",
    "nogroupby_common = nogroupby_word_freq.most_common(20)\n",
    "\n",
    "groupby_common, nogroupby_common"
   ]
  },
  {
   "cell_type": "code",
   "execution_count": 10,
   "id": "0c135bc3-314a-42ab-9bf4-11133b38ccdb",
   "metadata": {},
   "outputs": [
    {
     "data": {
      "text/plain": [
       "True     693\n",
       "False    438\n",
       "Name: has_groupby, dtype: int64"
      ]
     },
     "execution_count": 10,
     "metadata": {},
     "output_type": "execute_result"
    }
   ],
   "source": [
    "## Checking for data balance, the values don't seem too imbalanced\n",
    "queries_df.has_groupby.value_counts()"
   ]
  },
  {
   "cell_type": "code",
   "execution_count": null,
   "id": "cef3ad8e-cff4-49ee-b0eb-c2d55fec658e",
   "metadata": {},
   "outputs": [],
   "source": []
  }
 ],
 "metadata": {
  "kernelspec": {
   "display_name": "Python 3 (ipykernel)",
   "language": "python",
   "name": "python3"
  },
  "language_info": {
   "codemirror_mode": {
    "name": "ipython",
    "version": 3
   },
   "file_extension": ".py",
   "mimetype": "text/x-python",
   "name": "python",
   "nbconvert_exporter": "python",
   "pygments_lexer": "ipython3",
   "version": "3.9.7"
  }
 },
 "nbformat": 4,
 "nbformat_minor": 5
}
